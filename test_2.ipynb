{
 "cells": [
  {
   "cell_type": "code",
   "execution_count": 1,
   "metadata": {},
   "outputs": [
    {
     "name": "stderr",
     "output_type": "stream",
     "text": [
      "/Users/nelson/Documents/oplog_works/venv/lib/python3.10/site-packages/snowflake/connector/options.py:103: UserWarning: You have an incompatible version of 'pyarrow' installed (12.0.0), please install a version that adheres to: 'pyarrow<10.1.0,>=10.0.1; extra == \"pandas\"'\n",
      "  warn_incompatible_dep(\n",
      "Pandas version 2.x was detected. Please note awswrangler currently does not support pyarrow-backed ArrowDtype DataFrames.\n"
     ]
    },
    {
     "name": "stdout",
     "output_type": "stream",
     "text": [
      "Connecting to MongoDB...\n"
     ]
    },
    {
     "name": "stderr",
     "output_type": "stream",
     "text": [
      "26-Dec-23 15:12:40 - Data extraction started\n"
     ]
    },
    {
     "name": "stdout",
     "output_type": "stream",
     "text": [
      "Connected\n"
     ]
    },
    {
     "name": "stderr",
     "output_type": "stream",
     "text": [
      "26-Dec-23 15:12:50 - Data extraction ended\n"
     ]
    },
    {
     "name": "stdout",
     "output_type": "stream",
     "text": [
      "{'bucket_name': 'case-study-testinterview', 'prefix': 'test', 'user': 'postgres', 'password': 'blessing', 'host': 'localhost', 'port': '5432', 'db': 'nelson'}\n",
      "connecting to redshift\n",
      "Commencing RedshiftConn write...\n",
      "Incoming table is customers\n",
      "schema validation Following columns are extras amount ,email2\n",
      "Creating temp table customers_temp1975\n",
      "Transaction Successful\n",
      "table 'customers' succesful - Transaction successful!\n"
     ]
    }
   ],
   "source": [
    "from MI_ETL.Connector import Source\n",
    "from MI_ETL.data_extraction import DataExtraction\n",
    "from MI_ETL.loader import Loader\n",
    "import os\n",
    "\n",
    "\n",
    "conn = Source.mongo(os.getenv('conn', None))\n",
    "if conn:\n",
    "    data_extraction = DataExtraction(connection=conn, extract_all=[], db='sample_analytics', backfill='2023/12/25')\n",
    "    #data_extraction = DataExtraction(connection=conn, extract_all=[], db='sample_analytics')\n",
    "    final = data_extraction.extract_oplog_data()\n",
    "\n",
    "\n",
    "    loader = Loader(mongo_conn=conn, data=final)\n",
    "    loader.run(warehouse=True, bucket_name = 'case-study-testinterview', prefix='test',\n",
    "        user = 'postgres',\n",
    "        password=  'blessing',\n",
    "        host = 'localhost',\n",
    "        port = '5432',\n",
    "        db = 'nelson')"
   ]
  },
  {
   "cell_type": "code",
   "execution_count": null,
   "metadata": {},
   "outputs": [],
   "source": []
  },
  {
   "cell_type": "code",
   "execution_count": 22,
   "metadata": {},
   "outputs": [],
   "source": []
  },
  {
   "cell_type": "markdown",
   "metadata": {},
   "source": []
  }
 ],
 "metadata": {
  "kernelspec": {
   "display_name": "Python 3",
   "language": "python",
   "name": "python3"
  },
  "language_info": {
   "codemirror_mode": {
    "name": "ipython",
    "version": 3
   },
   "file_extension": ".py",
   "mimetype": "text/x-python",
   "name": "python",
   "nbconvert_exporter": "python",
   "pygments_lexer": "ipython3",
   "version": "3.10.0"
  },
  "orig_nbformat": 4
 },
 "nbformat": 4,
 "nbformat_minor": 2
}
