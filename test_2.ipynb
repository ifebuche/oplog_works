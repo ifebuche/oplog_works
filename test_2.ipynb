{
 "cells": [
  {
   "cell_type": "code",
   "execution_count": null,
   "metadata": {},
   "outputs": [],
   "source": [
    "from MI_ETL.Connector import Source\n",
    "from MI_ETL.data_extraction import DataExtraction\n",
    "from MI_ETL.loader import Loader\n",
    "import os\n",
    "\n",
    "\n",
    "conn = Source.mongo(os.getenv('conn', None))\n",
    "if conn:\n",
    "    data_extraction = DataExtraction(connection=conn, extract_all=[], db='sample_analytics', backfill='2023/12/25')\n",
    "    #data_extraction = DataExtraction(connection=conn, extract_all=[], db='sample_analytics')\n",
    "    final = data_extraction.extract_oplog_data()\n",
    "\n",
    "\n",
    "    loader = Loader(mongo_conn=conn, data=final)\n",
    "    loader.run(warehouse=True, bucket_name = 'case-study-testinterview', prefix='test',\n",
    "        user = 'pass',\n",
    "        password=  'pass',\n",
    "        host = 'pass',\n",
    "        port = 'pass',\n",
    "        db = 'pass')"
   ]
  },
  {
   "cell_type": "code",
   "execution_count": 1,
   "metadata": {},
   "outputs": [],
   "source": []
  },
  {
   "cell_type": "markdown",
   "metadata": {},
   "source": []
  }
 ],
 "metadata": {
  "kernelspec": {
   "display_name": "Python 3",
   "language": "python",
   "name": "python3"
  },
  "language_info": {
   "codemirror_mode": {
    "name": "ipython",
    "version": 3
   },
   "file_extension": ".py",
   "mimetype": "text/x-python",
   "name": "python",
   "nbconvert_exporter": "python",
   "pygments_lexer": "ipython3",
   "version": "3.10.0"
  },
  "orig_nbformat": 4
 },
 "nbformat": 4,
 "nbformat_minor": 2
}
