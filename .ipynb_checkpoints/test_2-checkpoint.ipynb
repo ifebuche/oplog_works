{
 "cells": [
  {
   "cell_type": "code",
   "execution_count": 1,
   "metadata": {},
   "outputs": [
    {
     "name": "stdout",
     "output_type": "stream",
     "text": [
      "Connecting to MongoDB...\n",
      "Connected\n"
     ]
    }
   ],
   "source": [
    "from MI_ETL.Connector import Source\n",
    "from MI_ETL.data_extraction import DataExtraction\n",
    "from MI_ETL.loader import Loader\n",
    "import os\n",
    "\n",
    "\n",
    "conn = Source.mongo(os.getenv('oplog_test_source_url', None))"
   ]
  },
  {
   "cell_type": "code",
   "execution_count": 2,
   "metadata": {},
   "outputs": [
    {
     "name": "stderr",
     "output_type": "stream",
     "text": [
      "02-Jan-24 17:58:00 - Data extraction started\n",
      "02-Jan-24 17:58:16 - Data extraction ended\n"
     ]
    }
   ],
   "source": [
    "data_extraction = DataExtraction(connection=conn, extract_all=[], db='sample_analytics', backfill='2023/12/25')\n",
    "#data_extraction = DataExtraction(connection=conn, extract_all=[], db='sample_analytics')\n",
    "final = data_extraction.extract_oplog_data()"
   ]
  },
  {
   "cell_type": "code",
   "execution_count": 3,
   "metadata": {},
   "outputs": [
    {
     "data": {
      "text/plain": [
       "dict_keys(['sales'])"
      ]
     },
     "execution_count": 3,
     "metadata": {},
     "output_type": "execute_result"
    }
   ],
   "source": [
    "final.keys()"
   ]
  },
  {
   "cell_type": "code",
   "execution_count": 5,
   "metadata": {},
   "outputs": [
    {
     "data": {
      "text/html": [
       "<div>\n",
       "<style scoped>\n",
       "    .dataframe tbody tr th:only-of-type {\n",
       "        vertical-align: middle;\n",
       "    }\n",
       "\n",
       "    .dataframe tbody tr th {\n",
       "        vertical-align: top;\n",
       "    }\n",
       "\n",
       "    .dataframe thead th {\n",
       "        text-align: right;\n",
       "    }\n",
       "</style>\n",
       "<table border=\"1\" class=\"dataframe\">\n",
       "  <thead>\n",
       "    <tr style=\"text-align: right;\">\n",
       "      <th></th>\n",
       "      <th>_id</th>\n",
       "      <th>username</th>\n",
       "      <th>name</th>\n",
       "      <th>address</th>\n",
       "      <th>sales_date</th>\n",
       "      <th>email</th>\n",
       "    </tr>\n",
       "  </thead>\n",
       "  <tbody>\n",
       "    <tr>\n",
       "      <th>0</th>\n",
       "      <td>65918fc2dff30e8374c25d10</td>\n",
       "      <td>scottscott</td>\n",
       "      <td>Scott Scott</td>\n",
       "      <td>2724 Mark Green Apt. 473, Port Crystal, GA 89080</td>\n",
       "      <td>2019-08-16 14:49:30</td>\n",
       "      <td>leroyanderson@example.net</td>\n",
       "    </tr>\n",
       "    <tr>\n",
       "      <th>1</th>\n",
       "      <td>65918fc2dff30e8374c25d11</td>\n",
       "      <td>jeffreywinters</td>\n",
       "      <td>Jeffrey Winters</td>\n",
       "      <td>USNS Williams, FPO AE 43564</td>\n",
       "      <td>2022-07-02 13:18:17</td>\n",
       "      <td>curtissloan@example.org</td>\n",
       "    </tr>\n",
       "  </tbody>\n",
       "</table>\n",
       "</div>"
      ],
      "text/plain": [
       "                        _id        username             name  \\\n",
       "0  65918fc2dff30e8374c25d10      scottscott      Scott Scott   \n",
       "1  65918fc2dff30e8374c25d11  jeffreywinters  Jeffrey Winters   \n",
       "\n",
       "                                            address          sales_date  \\\n",
       "0  2724 Mark Green Apt. 473, Port Crystal, GA 89080 2019-08-16 14:49:30   \n",
       "1                       USNS Williams, FPO AE 43564 2022-07-02 13:18:17   \n",
       "\n",
       "                       email  \n",
       "0  leroyanderson@example.net  \n",
       "1    curtissloan@example.org  "
      ]
     },
     "execution_count": 5,
     "metadata": {},
     "output_type": "execute_result"
    }
   ],
   "source": [
    "final['sales'].head(2)"
   ]
  },
  {
   "cell_type": "code",
   "execution_count": null,
   "metadata": {},
   "outputs": [],
   "source": [
    "loader = Loader(mongo_conn=conn, data=final)\n",
    "loader.run(warehouse=True, bucket_name = 'case-study-testinterview', prefix='test',\n",
    "    user = 'pass',\n",
    "    password=  'pass',\n",
    "    host = 'pass',\n",
    "    port = 'pass',\n",
    "    db = 'pass')"
   ]
  }
 ],
 "metadata": {
  "kernelspec": {
   "display_name": "Python 3",
   "language": "python",
   "name": "python3"
  },
  "language_info": {
   "codemirror_mode": {
    "name": "ipython",
    "version": 3
   },
   "file_extension": ".py",
   "mimetype": "text/x-python",
   "name": "python",
   "nbconvert_exporter": "python",
   "pygments_lexer": "ipython3",
   "version": "3.9.0"
  }
 },
 "nbformat": 4,
 "nbformat_minor": 2
}
